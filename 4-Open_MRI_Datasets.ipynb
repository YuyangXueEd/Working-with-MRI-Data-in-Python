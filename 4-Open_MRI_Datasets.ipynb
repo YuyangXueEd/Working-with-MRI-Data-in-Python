{
 "cells": [
  {
   "cell_type": "markdown",
   "metadata": {
    "collapsed": true,
    "pycharm": {
     "name": "#%% md\n"
    }
   },
   "source": [
    "# Open MRI Datasets\n",
    "\n",
    "---\n",
    "\n",
    "We will be using a subset of a publicly available dataset, *ds000030*, from [openneuro.org](https://openneuro.org/datasets/ds000030). All of the datasets on OpenNeuro are already strctured according to BIDS.\n",
    "\n",
    "## OpenNeuro\n",
    "\n",
    "* client-side BIDS validation\n",
    "* resumable uploads\n",
    "* running BIDS apps\n",
    "\n",
    "## Downloading Data\n",
    "\n",
    "### Datalad\n",
    "\n",
    "We can use `Datalad` to install the data. We can now navigate the dataset like its a file system and plan our analysis."
   ]
  },
  {
   "cell_type": "code",
   "execution_count": 1,
   "outputs": [
    {
     "data": {
      "text/plain": "1"
     },
     "execution_count": 1,
     "metadata": {},
     "output_type": "execute_result"
    }
   ],
   "source": [
    "import os\n",
    "\n",
    "os.system('datalad clone https://github.com/OpenNeuroDatasets/ds000030.git data/ds000030')"
   ],
   "metadata": {
    "collapsed": false,
    "pycharm": {
     "name": "#%%\n"
    }
   }
  },
  {
   "cell_type": "code",
   "execution_count": null,
   "outputs": [],
   "source": [
    "datalad get downloads any of the \"large\" data (i.e. NIfTI files) to our filesystem according to the filepath or regular expression we use. These files can also be removed from our filesystem using datalad drop."
   ],
   "metadata": {
    "collapsed": false,
    "pycharm": {
     "name": "#%%\n"
    }
   }
  }
 ],
 "metadata": {
  "kernelspec": {
   "display_name": "Python 3",
   "language": "python",
   "name": "python3"
  },
  "language_info": {
   "codemirror_mode": {
    "name": "ipython",
    "version": 2
   },
   "file_extension": ".py",
   "mimetype": "text/x-python",
   "name": "python",
   "nbconvert_exporter": "python",
   "pygments_lexer": "ipython2",
   "version": "2.7.6"
  }
 },
 "nbformat": 4,
 "nbformat_minor": 0
}