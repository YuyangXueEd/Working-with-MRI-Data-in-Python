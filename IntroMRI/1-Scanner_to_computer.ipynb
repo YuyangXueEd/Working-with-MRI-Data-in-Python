{
 "cells": [
  {
   "cell_type": "markdown",
   "metadata": {
    "collapsed": true,
    "pycharm": {
     "name": "#%% md\n"
    }
   },
   "source": [
    "# From the scanner to our computer\n",
    "\n",
    "## Types of MR scans\n",
    "\n",
    "### Anatomical\n",
    "\n",
    "> Sourced from https://case.edu/med/neurology/NR/MRI%20Basics.htm\n",
    "\n",
    "![Anatomical](imgs/anatomical.jpg)\n",
    "\n",
    "* 3D image of anatomy (i.e., shape, volume, cortical thickness, brain region)\n",
    "* can differentiate tissue types\n",
    "\n",
    "### Functional\n",
    "\n",
    "> Sourced from Wagner and Linguist, 2015\n",
    "\n",
    "![BOLD](imgs/bold.gif)\n",
    "\n",
    "![fmri](imgs/fmri_timeseries.png)\n",
    "\n",
    "* tracks the blood oxygen level-dependent (BOLD) signal as an analogue of brain activity\n",
    "* 4D image (x, y, z + time)\n",
    "\n",
    "### Diffusion\n",
    "\n",
    "> Sourced from http://brainsuite.org/processing/diffusion/tractography/\n",
    "\n",
    "![diffusion](imgs/dwi.gif)\n",
    "\n",
    "![tractography](imgs/dwi_tracts.png)\n",
    "\n",
    "* measures diffusion of water in order to model tissue microstructure\n",
    "* 3D image (x, y, z + direction of diffusion)\n",
    "* need parameters about the strength of the diffusion \"gradient\" and its direction (`.bval` and `.bvec`)"
   ]
  },
  {
   "cell_type": "markdown",
   "source": [
    "## Neuroimaging File Formats\n",
    "\n",
    "\n",
    "| Format Name | File Extension |                     Origin                     |\n",
    "|:-----------:|:--------------:|:----------------------------------------------:|\n",
    "|    DICOM    | none           |              ACR/NEMA Consortium               |\n",
    "| Analyze     | .img/.hdr      | Analyze Software, Mayo Clinic                  |\n",
    "| NIfTI       | .nii           | Neuroimaging Informatics Technology Initiative |\n",
    "|    MINC     | .mnc           | Montreal Neurological Institute                |\n",
    "| NRRD        | .nrrd          |                                                |\n",
    "\n",
    "From the MRI scanner, images are initially collected in the DICOM format and can be converted to these other formats to make working with the data easier.\n",
    "\n",
    "Let's download some example DICOM data to see what it looks like. This data was generously shared publicly by the [Princeton Handbook for Reproducible Neuroimaging](https://brainhack-princeton.github.io/handbook/).\n"
   ],
   "metadata": {
    "collapsed": false,
    "pycharm": {
     "name": "#%% md\n"
    }
   }
  },
  {
   "cell_type": "code",
   "execution_count": 1,
   "outputs": [
    {
     "name": "stdout",
     "output_type": "stream",
     "text": [
      "File exists. Go to the next step.\n"
     ]
    }
   ],
   "source": [
    "from tqdm import tqdm\n",
    "import requests\n",
    "import os\n",
    "\n",
    "if not os.path.isfile('data/0219191.tar.gz'):\n",
    "    url = \"https://zenodo.org/record/3677090/files/0219191_mystudy-0219-1114.tar.gz\"\n",
    "    response = requests.get(url, stream=True)\n",
    "\n",
    "    with open(\"data/0219191.tar.gz\", \"wb\") as handle:\n",
    "        for data in tqdm(response.iter_content()):\n",
    "            handle.write(data)\n",
    "else:\n",
    "    print(\"File exists. Go to the next step.\")"
   ],
   "metadata": {
    "collapsed": false,
    "pycharm": {
     "name": "#%%\n"
    }
   }
  },
  {
   "cell_type": "markdown",
   "source": [
    "Using `tarfile` package to unpack the data."
   ],
   "metadata": {
    "collapsed": false,
    "pycharm": {
     "name": "#%% md\n"
    }
   }
  },
  {
   "cell_type": "code",
   "execution_count": 2,
   "outputs": [],
   "source": [
    "import tarfile\n",
    "from glob import glob\n",
    "file = tarfile.open(\"data/0219191.tar.gz\", \"r:gz\")\n",
    "if not os.path.exists('data/dicom_examples/'):\n",
    "    os.makedirs('data/dicom_examples/')\n",
    "file.extractall('./data/dicom_examples/')\n",
    "file.close()\n"
   ],
   "metadata": {
    "collapsed": false,
    "pycharm": {
     "name": "#%%\n"
    }
   }
  },
  {
   "cell_type": "code",
   "execution_count": 3,
   "outputs": [],
   "source": [
    "import gzip\n",
    "import shutil\n",
    "path = 'data/dicom_examples/0219191_mystudy-0219-1114/dcm/*.gz'\n",
    "\n",
    "for i in glob(path):\n",
    "    with gzip.open(i, 'rb') as f_in:\n",
    "        with open('data/dicom_examples/0219191_mystudy-0219-1114/dcm/' + i.split('/')[-1].split('.')[0].split('\\\\')[-1] + 'dcm', 'wb') as f_out:\n",
    "            shutil.copyfileobj(f_in, f_out)"
   ],
   "metadata": {
    "collapsed": false,
    "pycharm": {
     "name": "#%%\n"
    }
   }
  },
  {
   "cell_type": "markdown",
   "source": [
    "NIfTI is one of the most ubiquitous file formats for storing neuroimaging data. We can convert our DICOM data to NIfTI using `dcm2niix`."
   ],
   "metadata": {
    "collapsed": false,
    "pycharm": {
     "name": "#%% md\n"
    }
   }
  },
  {
   "cell_type": "code",
   "execution_count": 4,
   "outputs": [
    {
     "data": {
      "text/plain": "0"
     },
     "execution_count": 4,
     "metadata": {},
     "output_type": "execute_result"
    }
   ],
   "source": [
    "if not os.path.exists('data/dicom_examples/nii'):\n",
    "    os.makedirs('data/dicom_examples/nii')\n",
    "\n",
    "os.system('dcm2niix -z y -o data/dicom_examples/nii data/dicom_examples/0219191_mystudy-0219-1114/dcm/')"
   ],
   "metadata": {
    "collapsed": false,
    "pycharm": {
     "name": "#%%\n"
    }
   }
  }
 ],
 "metadata": {
  "kernelspec": {
   "display_name": "Python 3",
   "language": "python",
   "name": "python3"
  },
  "language_info": {
   "codemirror_mode": {
    "name": "ipython",
    "version": 2
   },
   "file_extension": ".py",
   "mimetype": "text/x-python",
   "name": "python",
   "nbconvert_exporter": "python",
   "pygments_lexer": "ipython2",
   "version": "2.7.6"
  }
 },
 "nbformat": 4,
 "nbformat_minor": 0
}