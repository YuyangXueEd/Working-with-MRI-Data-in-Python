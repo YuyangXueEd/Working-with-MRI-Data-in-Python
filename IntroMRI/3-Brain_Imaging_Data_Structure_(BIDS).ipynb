{
 "cells": [
  {
   "cell_type": "markdown",
   "metadata": {
    "collapsed": true,
    "pycharm": {
     "name": "#%% md\n"
    }
   },
   "source": [
    "# Brain Imaging Data Structure (BIDS)\n",
    "\n",
    "---\n",
    "\n",
    "## When NIfTI is not enough\n",
    "\n",
    "We've only worked with a single T1w scan from a single subject. However, neuraoimaging research requires working with *different scan modalities* across *several subjects*.\n",
    "\n",
    "Let's take a look at the rest of our NIfTI dataset from the last lesson. Imagine you are a collaborator who's currently gotten your hands on this dataset for an analysis. What are some immediate questions you might have that aren't apparent at a first glance?"
   ]
  },
  {
   "cell_type": "code",
   "execution_count": 10,
   "outputs": [
    {
     "name": "stdout",
     "output_type": "stream",
     "text": [
      "📁 nii/\n",
      "├─📄 dcm_anat_ses-01_scout_20190219111436_1.json\n",
      "├─📄 dcm_anat_ses-01_scout_20190219111436_1.nii.gz\n",
      "├─📄 dcm_anat_ses-01_scout_20190219111436_2_i00001.json\n",
      "├─📄 dcm_anat_ses-01_scout_20190219111436_2_i00001.nii.gz\n",
      "├─📄 dcm_anat_ses-01_scout_20190219111436_2_i00002.json\n",
      "├─📄 dcm_anat_ses-01_scout_20190219111436_2_i00002.nii.gz\n",
      "├─📄 dcm_anat_ses-01_scout_20190219111436_2_i00003.json\n",
      "├─📄 dcm_anat_ses-01_scout_20190219111436_2_i00003.nii.gz\n",
      "├─📄 dcm_anat_ses-01_scout_20190219111436_2_i00004.json\n",
      "├─📄 dcm_anat_ses-01_scout_20190219111436_2_i00004.nii.gz\n",
      "├─📄 dcm_anat_ses-01_scout_20190219111436_3_i00001.json\n",
      "├─📄 dcm_anat_ses-01_scout_20190219111436_3_i00001.nii.gz\n",
      "├─📄 dcm_anat_ses-01_scout_20190219111436_3_i00002.json\n",
      "├─📄 dcm_anat_ses-01_scout_20190219111436_3_i00002.nii.gz\n",
      "├─📄 dcm_anat_ses-01_scout_20190219111436_3_i00003.json\n",
      "├─📄 dcm_anat_ses-01_scout_20190219111436_3_i00003.nii.gz\n",
      "├─📄 dcm_anat_ses-01_scout_20190219111436_4_i00001.json\n",
      "├─📄 dcm_anat_ses-01_scout_20190219111436_4_i00001.nii.gz\n",
      "├─📄 dcm_anat_ses-01_scout_20190219111436_4_i00002.json\n",
      "├─📄 dcm_anat_ses-01_scout_20190219111436_4_i00002.nii.gz\n",
      "├─📄 dcm_anat_ses-01_scout_20190219111436_4_i00003.json\n",
      "├─📄 dcm_anat_ses-01_scout_20190219111436_4_i00003.nii.gz\n",
      "├─📄 dcm_anat_ses-01_T1w_20190219111436_5.json\n",
      "├─📄 dcm_anat_ses-01_T1w_20190219111436_5.nii.gz\n",
      "├─📄 dcm_func_ses-01_task-faces_run-01_20190219111436_13.json\n",
      "├─📄 dcm_func_ses-01_task-faces_run-01_20190219111436_13.nii.gz\n",
      "├─📄 dcm_func_ses-01_task-sound_run-01_20190219111436_6.json\n",
      "├─📄 dcm_func_ses-01_task-sound_run-01_20190219111436_6.nii.gz\n",
      "├─📄 dcm_func_ses-01_task-sound_run-01_20190219111436_7.json\n",
      "├─📄 dcm_func_ses-01_task-sound_run-01_20190219111436_7.nii.gz\n",
      "├─📄 dcm_func_ses-01_task-sound_run-01_20190219111436_8.json\n",
      "├─📄 dcm_func_ses-01_task-sound_run-01_20190219111436_8.nii.gz\n",
      "├─📄 dcm_func_ses-01_task-story_run-01_20190219111436_9.json\n",
      "├─📄 dcm_func_ses-01_task-story_run-01_20190219111436_9.nii.gz\n",
      "├─📄 dcm_func_ses-01_task-story_run-02_20190219111436_10.json\n",
      "├─📄 dcm_func_ses-01_task-story_run-02_20190219111436_10.nii.gz\n",
      "├─📄 dcm_func_ses-01_task-story_run-03_20190219111436_11.json\n",
      "├─📄 dcm_func_ses-01_task-story_run-03_20190219111436_11.nii.gz\n",
      "├─📄 dcm_func_ses-01_task-story_run-04_20190219111436_12.json\n",
      "└─📄 dcm_func_ses-01_task-story_run-04_20190219111436_12.nii.gz\n"
     ]
    }
   ],
   "source": [
    "import seedir as sd\n",
    "\n",
    "sd.seedir('data/dicom_examples/nii', style='emoji')"
   ],
   "metadata": {
    "collapsed": false,
    "pycharm": {
     "name": "#%%\n"
    }
   }
  },
  {
   "cell_type": "markdown",
   "source": [
    "* How many subjects were scanned?\n",
    "* What are the demographics of the participants?\n",
    "* What is the name of the dataset?\n",
    "* Who are the authors of the dataset?\n",
    "* Is there a citation I should use to give credit to the authors?\n",
    "* Is there a more elaborate description of the fMRI tasks?\n",
    "* Do any of the fMRI tasks have an event-related design?\n",
    "* What do the fMRI task stimuli look like?\n",
    "\n",
    "## Introducing BIDS\n",
    "\n",
    "The [Brain Imaging Data Structure (BIDS)](https://www.nature.com/articles/sdata201644) is a simple and intuitive way to organize and describe your neuroimaging and behavioural data. Neuroimaging experiments result in complicated data that can be arranged in several different ways. BIDS tackles this problem by suggesting a new standard for the arrangement of neuroimaging datasets. Using the same organizational standard for all of your studies will also allow you to easily reuse your scripts and share data and code with other researchers.\n",
    "\n",
    "For this lesson, we'll be focusing on organizing MRI data.\n",
    "\n",
    "For a more comprehensive overview, check out the [BIDS Starter Kit](https://github.com/bids-standard/bids-starter-kit/wiki).\n",
    "\n",
    "![BIDS example](imgs/bids_structure.webp)\n",
    "\n",
    "### Structure\n",
    "\n",
    "The current BIDS specification is [documented online](https://bids-specification.readthedocs.io/en/stable/).\n",
    "\n",
    "```\n",
    "dataset/\n",
    "    rawdata/\n",
    "        dataset_description.json\n",
    "        participants.tsv\n",
    "        CHANGES\n",
    "        READEME\n",
    "        task-rest.json\n",
    "        sub-01/\n",
    "            ses-01/\n",
    "                anat/\n",
    "                func/\n",
    "        sub-02/\n",
    "        ...\n",
    "    sourcedata/\n",
    "        ...\n",
    "    derivatives/\n",
    "        pipeline_1/\n",
    "        pipeline_2/\n",
    "        ...\n",
    "    code/\n",
    "    stimuli/\n",
    "```\n",
    "\n",
    "Let us converting the NIfTI data to BIDS manually."
   ],
   "metadata": {
    "collapsed": false,
    "pycharm": {
     "name": "#%% md\n"
    }
   }
  },
  {
   "cell_type": "markdown",
   "source": [
    "### Conversion Methods\n",
    "\n",
    "* [Dcm2Bids](https://github.com/cbedetti/Dcm2Bids)\n",
    "\n",
    "You can use `dcm2bids_scaffold` to help you build the bids structure automatically. `dcm2bids_scaffold` creates basic BIDS files and directories in the output directory (by default folder where the script is launched)."
   ],
   "metadata": {
    "collapsed": false,
    "pycharm": {
     "name": "#%% md\n"
    }
   }
  },
  {
   "cell_type": "code",
   "execution_count": 11,
   "outputs": [
    {
     "name": "stdout",
     "output_type": "stream",
     "text": [
      "dcm2bids is installed.\n"
     ]
    },
    {
     "data": {
      "text/plain": "0"
     },
     "execution_count": 11,
     "metadata": {},
     "output_type": "execute_result"
    }
   ],
   "source": [
    "import os\n",
    "import importlib.util\n",
    "\n",
    "package_name = ['dcm2bids']\n",
    "\n",
    "for i in package_name:\n",
    "    spec = importlib.util.find_spec(i)\n",
    "    if spec is None:\n",
    "        print(i + ' is not installed.')\n",
    "        os.system('pip install ' + i)\n",
    "        print(i + 'installed.')\n",
    "    else:\n",
    "        print(i + ' is installed.')\n",
    "\n",
    "os.system('dcm2bids_scaffold -o data/dicom_examples/bids/')"
   ],
   "metadata": {
    "collapsed": false,
    "pycharm": {
     "name": "#%%\n"
    }
   }
  },
  {
   "cell_type": "code",
   "execution_count": 12,
   "outputs": [],
   "source": [
    "import json\n",
    "from collections import OrderedDict\n",
    "\n",
    "data = OrderedDict()\n",
    "data['Name'] = 'BIDS Test'\n",
    "data['BIDSVersion'] = '1.6.0'\n",
    "data['License'] = ''\n",
    "data['Authors'] = ['', '', '']\n",
    "data['Acknowledgements'] = ''\n",
    "data['HowToAcknowledge'] = ''\n",
    "data['Funding'] = ['']\n",
    "data['ReferenceAndLinks'] = ['']\n",
    "dataset_json_name = 'data/dicom_examples/bids/dataset_description.json'\n",
    "\n",
    "with open(dataset_json_name, 'w') as f:\n",
    "    json.dump(data, f, sort_keys=False, indent=4)"
   ],
   "metadata": {
    "collapsed": false,
    "pycharm": {
     "name": "#%%\n"
    }
   }
  },
  {
   "cell_type": "markdown",
   "source": [
    "To build the configuration file, you need to have an example of the sidecars. You can use `dcm2bids_helper` with the DICOMs of one participant. It will launch `dcm2niix` and save the result inside the `tmp_dcm2bids/helper` of the output directory."
   ],
   "metadata": {
    "collapsed": false,
    "pycharm": {
     "name": "#%% md\n"
    }
   }
  },
  {
   "cell_type": "code",
   "execution_count": null,
   "outputs": [],
   "source": [
    "# There is an error of output path on Windows system\n",
    "# Try to do that on Linux\n",
    "os.system('dcm2bids_helper -d data/dicom_examples/0219191_mystudy-0219-1114/dcm -o output/')"
   ],
   "metadata": {
    "collapsed": false,
    "pycharm": {
     "name": "#%%\n"
    }
   }
  },
  {
   "cell_type": "markdown",
   "source": [
    "We will add the configuration file to `bids/code` to help the generation of bids structure. The detailed explanation can be seen on [Configuration file](https://unfmontreal.github.io/Dcm2Bids/docs/3-configuration/). Here we can just add the json below to the directory.\n",
    "\n",
    "> bids/code/bids_config.json\n",
    "\n",
    "```\n",
    "{\n",
    "  \"descriptions\": [\n",
    "    {\n",
    "      \"dataType\": \"anat\",\n",
    "      \"modalityLabel\": \"T1w\",\n",
    "      \"criteria\": {\n",
    "        \"SeriesDescription\": \"anat_ses-01_T1w\"\n",
    "      }\n",
    "    },\n",
    "    {\n",
    "      \"dataType\": \"func\",\n",
    "      \"modalityLabel\": \"bold\",\n",
    "      \"customLabels\": \"task-sound\",\n",
    "      \"criteria\": {\n",
    "        \"SeriesDescription\": \"func_ses-01_task-sound\"\n",
    "      }\n",
    "    },\n",
    "    {\n",
    "      \"dataType\": \"func\",\n",
    "      \"modalityLabel\": \"bold\",\n",
    "      \"customLabels\": \"task-story\",\n",
    "      \"criteria\": {\n",
    "        \"SeriesDescription\": \"func_ses-01_task-story\"\n",
    "      }\n",
    "    },\n",
    "    {\n",
    "      \"dataType\": \"func\",\n",
    "      \"modalityLabel\": \"bold\",\n",
    "      \"customLabels\": \"task-faces\",\n",
    "      \"criteria\": {\n",
    "        \"SeriesDescription\": \"func_ses-01_task-faces*\"\n",
    "      }\n",
    "    }\n",
    "  ]\n",
    "}\n",
    "```\n",
    "\n",
    "And then we can use `dcm2bids` to construct our final bids."
   ],
   "metadata": {
    "collapsed": false,
    "pycharm": {
     "name": "#%% md\n"
    }
   }
  },
  {
   "cell_type": "code",
   "execution_count": 14,
   "outputs": [
    {
     "data": {
      "text/plain": "1"
     },
     "execution_count": 14,
     "metadata": {},
     "output_type": "execute_result"
    }
   ],
   "source": [
    "# There is an error of output path on Windows system\n",
    "# Try to do that on Linux\n",
    "\n",
    "os.system(\" dcm2bids -d data/dicom_examples/0219191_mystudy-0219-1114/dcm/ -p 01 -s 01 -c data/dicom_examples/bids/code/bids_config.json -o data/dicom_examples/bids/\")"
   ],
   "metadata": {
    "collapsed": false,
    "pycharm": {
     "name": "#%%\n"
    }
   }
  },
  {
   "cell_type": "markdown",
   "source": [
    "The `sub-01` directory and `tmp_dcm2bids` are raw data files. You can compare the size of the previous `data/\n",
    "nii` folder. Two of which are the same.\n",
    "\n",
    "## BIDS Validator\n",
    "\n",
    "Can be run [online](https://bids-standard.github.io/bids-validator).\n",
    "\n",
    "Select the data directory and wait for it to finish validation.\n",
    "\n",
    "View errors and warnings."
   ],
   "metadata": {
    "collapsed": false,
    "pycharm": {
     "name": "#%% md\n"
    }
   }
  }
 ],
 "metadata": {
  "kernelspec": {
   "display_name": "Python 3",
   "language": "python",
   "name": "python3"
  },
  "language_info": {
   "codemirror_mode": {
    "name": "ipython",
    "version": 2
   },
   "file_extension": ".py",
   "mimetype": "text/x-python",
   "name": "python",
   "nbconvert_exporter": "python",
   "pygments_lexer": "ipython2",
   "version": "2.7.6"
  }
 },
 "nbformat": 4,
 "nbformat_minor": 0
}