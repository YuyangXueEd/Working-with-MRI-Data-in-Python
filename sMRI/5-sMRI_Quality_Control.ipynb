{
 "cells": [
  {
   "cell_type": "markdown",
   "metadata": {
    "collapsed": true,
    "pycharm": {
     "name": "#%% md\n"
    }
   },
   "source": [
    "# sMRI Quality Control\n",
    "\n",
    "---\n",
    "\n",
    "Questions:\n",
    "* How do we identify image preprocessing failures?\n",
    "\n",
    "Objectives:\n",
    "* Visualize processing failures\n",
    "* Familiarize with automatic QC tools\n",
    "\n",
    "## Things that can go wrong\n",
    "\n",
    "### Acquisition\n",
    "\n",
    "Due to MR physics (e.g. Field of view (FOV), ghosting, aliasing), incorrect parameters can truncate and/or duplicate brain anatomy.\n",
    "\n",
    "![MR_physics_QC](imgs/MR_physics_QC.png)\n",
    "\n",
    "Due to participant (e.g. Motion artifacts), participant specific issues such as motion artifcats in Parkinson’s patients can manifest in the scan (e.g. ringing effect showing ripples or curved lines).\n",
    "\n",
    "![Motion_QC](imgs/Motion_QC.png)\n",
    "\n",
    "### Quantification\n",
    "\n",
    "Existing image processing pipelines (e.g. FreeSurfer, CIVET) will have a few QC tools and examples that can help with failure detection and quality control of volumetric segmentations and surface parcellations.\n",
    "\n",
    "![Segment_and_surface_QC](imgs/Segment_and_surface_QC.png)\n",
    "\n",
    "Usage of new method will require your own QC protocols. Especially for highly specific segmentation methods require visual inspection from a neuroanatomy expert. Even for the qualitiative visual inspection, it is important create a QC protocol and share it with the results.\n",
    "\n",
    "![HC_and_CB_MAGeT](imgs/HC_and_CB_MAGeT.png)\n",
    "\n",
    "## Automatic QC tools\n",
    "\n",
    "### Using reports from [existing pipelines](https://fmriprep.org/en/stable/_static/sample_report.html)。\n",
    "\n",
    "![sMRIPrep_QC_report](imgs/sMRIPrep_QC_report.png)\n",
    "\n",
    "### Using QC tools\n",
    "\n",
    "[MRIQC](https://github.com/poldracklab/mriqc): extracts no-reference IQMs (image quality metrics) from structural (T1w and T2w) and functional MRI data.\n",
    "\n",
    "Individual report           |  Group report\n",
    ":-------------------------:|:-------------------------:\n",
    "![indreport](imgs/mriqc_individual_report.png)  |  ![groupreport](imgs/mriqc_group_report.png)\n",
    "\n",
    "[VisualQC](https://github.com/raamana/visualqc): assistive tool to improve the quality control workflow of neuroimaging data.py\n",
    "\n",
    "T1w acquisition           |  Alignment| Cortical Parcellation\n",
    ":-------------------------:|:-------------------------:|:----:|\n",
    "![t1wacq](imgs/t1_mri_visual_QC.png)  |  ![alignment](imgs/alignment_mismatched_colormix_visualQC.png)| ![Cortical Parcellation\n",
    "](imgs/cortical_zoomed_in.png)"
   ]
  }
 ],
 "metadata": {
  "kernelspec": {
   "display_name": "Python 3",
   "language": "python",
   "name": "python3"
  },
  "language_info": {
   "codemirror_mode": {
    "name": "ipython",
    "version": 2
   },
   "file_extension": ".py",
   "mimetype": "text/x-python",
   "name": "python",
   "nbconvert_exporter": "python",
   "pygments_lexer": "ipython2",
   "version": "2.7.6"
  }
 },
 "nbformat": 4,
 "nbformat_minor": 0
}